{
 "cells": [
  {
   "cell_type": "markdown",
   "id": "d6c42f42",
   "metadata": {},
   "source": [
    "---\n",
    "# Modelisations pour 2 regions\n",
    "---"
   ]
  },
  {
   "cell_type": "markdown",
   "id": "876fc65a",
   "metadata": {},
   "source": [
    "---\n",
    "## Import fichier csv\n",
    "---"
   ]
  },
  {
   "cell_type": "code",
   "execution_count": 1,
   "id": "4b21deb3",
   "metadata": {},
   "outputs": [],
   "source": [
    "#!/usr/bin/env python\n",
    "# coding: utf-8\n",
    "\n",
    "# In[4]:\n",
    "\n",
    "\n",
    "import numpy as np\n",
    "import pandas as pd\n",
    "import matplotlib.pyplot as plt\n",
    "from sklearn.cluster import AgglomerativeClustering\n",
    "from sklearn.cluster import KMeans\n",
    "import seaborn as sns\n",
    "%matplotlib inline\n",
    "from sklearn.decomposition import PCA\n",
    "from sklearn.manifold import TSNE\n",
    "from sklearn.discriminant_analysis import LinearDiscriminantAnalysis as LDA\n",
    "from sklearn.feature_selection import VarianceThreshold, SelectKBest, SelectFromModel, f_regression, mutual_info_regression, RFE, RFECV\n",
    "from sklearn.model_selection import train_test_split, KFold, GridSearchCV\n",
    "from sklearn.linear_model import LinearRegression, Lasso\n",
    "from sklearn.preprocessing import StandardScaler\n",
    "from urllib.request import urlopen\n",
    "from bs4 import BeautifulSoup\n",
    "import requests\n",
    "from sklearn.tree import DecisionTreeClassifier\n",
    "from sklearn.linear_model import Lasso\n",
    "from sklearn.ensemble import RandomForestClassifier\n",
    "\n",
    "\n",
    "whr_NoNA_all=pd.read_csv('whr_NoNA_all.csv',';',index_col=0)\n",
    "\n",
    "\n"
   ]
  },
  {
   "cell_type": "markdown",
   "id": "21a3b651",
   "metadata": {},
   "source": [
    "## Transformation regimes politiques en dummies"
   ]
  },
  {
   "cell_type": "code",
   "execution_count": 2,
   "id": "b17a612e",
   "metadata": {},
   "outputs": [],
   "source": [
    "whr_NoNA_all=whr_NoNA_all.join(pd.get_dummies(whr_NoNA_all['Regime']))\n",
    "whr_NoNA_all=whr_NoNA_all.drop('Regime',axis=1)\n"
   ]
  },
  {
   "cell_type": "markdown",
   "id": "0f04f7ad",
   "metadata": {},
   "source": [
    "---\n",
    "## Modelisation pour la region 'Western Europe'\n",
    "---"
   ]
  },
  {
   "cell_type": "markdown",
   "id": "7ec5f459",
   "metadata": {},
   "source": [
    "### Preparation des donnees pour la region"
   ]
  },
  {
   "cell_type": "code",
   "execution_count": 3,
   "id": "e2831d67",
   "metadata": {},
   "outputs": [],
   "source": [
    "whr_NoNA_all_we=whr_NoNA_all[whr_NoNA_all['Region']=='Western Europe']\n",
    "\n",
    "life_ladder_we=whr_NoNA_all_we['Life Ladder']\n",
    "\n",
    "\n"
   ]
  },
  {
   "cell_type": "markdown",
   "id": "0f9f70d2",
   "metadata": {},
   "source": [
    "### Application du modele Arbre de decision"
   ]
  },
  {
   "cell_type": "markdown",
   "id": "0f4aeaee",
   "metadata": {},
   "source": [
    "#### Preparation donnees pour la modelisation"
   ]
  },
  {
   "cell_type": "code",
   "execution_count": 4,
   "id": "146a5be9",
   "metadata": {},
   "outputs": [],
   "source": [
    "whr_NoNA_all_we_dtc=whr_NoNA_all_we.drop(['Year','Region'],axis=1)\n",
    "whr_NoNA_all_we_dtc=whr_NoNA_all_we_dtc.set_index('Country')\n",
    "life_ladder_we_dtc=whr_NoNA_all_we_dtc['Life Ladder']\n",
    "whr_NoNA_all_we_dtc=whr_NoNA_all_we_dtc.drop('Life Ladder',axis=1)\n",
    "\n",
    "life_ladder_cut_we_dtc = pd.qcut(life_ladder_we_dtc, q=2,labels=[1,2])\n",
    "life_ladder_cut_dix_we_dtc = pd.cut(life_ladder_we_dtc, [0,0.5,1.5,2.5,3.5,4.5,5.5,6.5,7.5,8.5,9.5,10],\n",
    "                                    labels=[0,1,2,3,4,5,6,7,8,9,10])\n"
   ]
  },
  {
   "cell_type": "markdown",
   "id": "caae1dd5",
   "metadata": {},
   "source": [
    "#### Definition et entrainement du modele"
   ]
  },
  {
   "cell_type": "code",
   "execution_count": 5,
   "id": "d405b49b",
   "metadata": {},
   "outputs": [
    {
     "data": {
      "text/plain": [
       "DecisionTreeClassifier(criterion='entropy', max_depth=4, random_state=123)"
      ]
     },
     "execution_count": 5,
     "metadata": {},
     "output_type": "execute_result"
    }
   ],
   "source": [
    "\n",
    "### Life Ladder coupé en 2\n",
    "\n",
    "X_train_we,X_test_we,y_train_we,y_test_we=train_test_split(whr_NoNA_all_we_dtc, life_ladder_cut_we_dtc, test_size=0.2,random_state=123)\n",
    "\n",
    "dt_clf_we=DecisionTreeClassifier(criterion='entropy',max_depth=4,random_state=123)\n",
    "\n",
    "dt_clf_we.fit(X_train_we,y_train_we)\n",
    "\n",
    "### Life Ladder coupé en 10 : arrondi du Life Ladder\n",
    "\n",
    "X_train_dix_we,X_test_dix_we,y_train_dix_we,y_test_dix_we=train_test_split(whr_NoNA_all_we_dtc, life_ladder_cut_dix_we_dtc, test_size=0.2,random_state=123)\n",
    "\n",
    "dt_clf_dix_we=DecisionTreeClassifier(criterion='entropy',max_depth=4,random_state=123)\n",
    "\n",
    "dt_clf_dix_we.fit(X_train_dix_we,y_train_dix_we)\n",
    "\n",
    "\n"
   ]
  },
  {
   "cell_type": "markdown",
   "id": "1c26ee01",
   "metadata": {},
   "source": [
    "#### Classement des variables par ordre d'importance pour le modele"
   ]
  },
  {
   "cell_type": "code",
   "execution_count": 6,
   "id": "9cc5a14f",
   "metadata": {},
   "outputs": [
    {
     "name": "stdout",
     "output_type": "stream",
     "text": [
      "                     Importance_we\n",
      "LogGDP                    0.626825\n",
      "Corruption                0.124059\n",
      "NegAffect                 0.073839\n",
      "InfantMortalityRate       0.055654\n",
      "GiniCoeff21               0.052538\n",
      "SocialSupport             0.039079\n",
      "PopAnnualGrowthRate       0.028006\n",
      "Hindouisme                0.000000\n",
      "                Importance_dix_we\n",
      "Corrup                   0.501956\n",
      "LogGDP                   0.136423\n",
      "SocialSupport            0.102023\n",
      "Freedom                  0.072259\n",
      "Corruption               0.065022\n",
      "Hindouisme               0.059713\n",
      "Generosity               0.030882\n",
      "LifeExpectancy           0.017778\n"
     ]
    }
   ],
   "source": [
    "### Life Ladder en 2\n",
    "\n",
    "feats_we={}\n",
    "for i,j in zip(whr_NoNA_all_we_dtc.columns,dt_clf_we.feature_importances_):\n",
    "    feats_we[i]=j\n",
    "\n",
    "importance_we=pd.DataFrame.from_dict(feats_we,orient='index')\n",
    "importance_we=importance_we.rename(columns={0: 'Importance_we'})\n",
    "\n",
    "print(importance_we.sort_values(by='Importance_we',ascending=False).head(8))\n",
    "\n",
    "### Life Ladder en 10\n",
    "\n",
    "feats_dix_we={}\n",
    "for i,j in zip(whr_NoNA_all_we_dtc.columns,dt_clf_dix_we.feature_importances_):\n",
    "    feats_dix_we[i]=j\n",
    "\n",
    "importance_dix_we=pd.DataFrame.from_dict(feats_dix_we,orient='index')\n",
    "importance_dix_we=importance_dix_we.rename(columns={0: 'Importance_dix_we'})\n",
    "\n",
    "print(importance_dix_we.sort_values(by='Importance_dix_we',ascending=False).head(8))"
   ]
  },
  {
   "cell_type": "markdown",
   "id": "b40bc410",
   "metadata": {},
   "source": [
    "On remarque que les donnes liées à la corruption ont une influence bien plus grande qu'au niveau mondial"
   ]
  },
  {
   "cell_type": "markdown",
   "id": "c2c72d1b",
   "metadata": {},
   "source": [
    "#### Performance du modele"
   ]
  },
  {
   "cell_type": "code",
   "execution_count": 7,
   "id": "e7cd3b67",
   "metadata": {},
   "outputs": [
    {
     "name": "stdout",
     "output_type": "stream",
     "text": [
      "le score du modele pour 2 classes sur jeu d'entrainement est de : 0.9081632653061225\n",
      "le score du modele pour 2 classes sur jeu de test est de : 0.8163265306122449\n",
      "le score du modele pour 10 classes sur jeu d'entrainement est de : 0.9183673469387755\n",
      "le score du modele pour 10 classes sur jeu de test est de : 0.7346938775510204\n"
     ]
    }
   ],
   "source": [
    "\n",
    "### Life Ladder coupé en 2\n",
    "print(\"le score du modele pour 2 classes sur jeu d'entrainement est de :\",dt_clf_we.score(X_train_we, y_train_we))\n",
    "print(\"le score du modele pour 2 classes sur jeu de test est de :\",dt_clf_we.score(X_test_we, y_test_we))\n",
    "\n",
    "\n",
    "### coupé en 10\n",
    "print(\"le score du modele pour 10 classes sur jeu d'entrainement est de :\",dt_clf_dix_we.score(X_train_dix_we, y_train_dix_we))\n",
    "print(\"le score du modele pour 10 classes sur jeu de test est de :\",dt_clf_dix_we.score(X_test_dix_we, y_test_dix_we))\n"
   ]
  },
  {
   "cell_type": "markdown",
   "id": "ce1e90af",
   "metadata": {},
   "source": [
    "On voit qu'au niveau de l'europe occidentale le modèle est plus performant qu'au niveau mondial"
   ]
  },
  {
   "cell_type": "markdown",
   "id": "4245a319",
   "metadata": {},
   "source": [
    "### Application du modele Random Forest"
   ]
  },
  {
   "cell_type": "markdown",
   "id": "cee795ac",
   "metadata": {},
   "source": [
    "#### Preparation des donnees pour le modele"
   ]
  },
  {
   "cell_type": "code",
   "execution_count": 8,
   "id": "37d56f8f",
   "metadata": {},
   "outputs": [],
   "source": [
    "whr_NoNA_all_we_rf=whr_NoNA_all_we.drop(['Year','Region'],axis=1)\n",
    "whr_NoNA_all_we_rf=whr_NoNA_all_we_rf.set_index('Country')\n",
    "\n",
    "life_ladder_we_rf=whr_NoNA_all_we_rf['Life Ladder']\n",
    "whr_NoNA_all_we_rf=whr_NoNA_all_we_rf.drop('Life Ladder',axis=1)\n",
    "\n",
    "\n",
    "\n",
    "life_ladder_cut_we_rf = pd.qcut(life_ladder_we_rf, q=2,labels=[1,2])\n",
    "life_ladder_cut_dix_we_rf = pd.cut(life_ladder_we_rf, [0,0.5,1.5,2.5,3.5,4.5,5.5,6.5,7.5,8.5,9.5,10],labels=[0,1,2,3,4,5,6,7,8,9,10])\n"
   ]
  },
  {
   "cell_type": "markdown",
   "id": "fd8ada7f",
   "metadata": {},
   "source": [
    "#### Definition et entrainement du modele"
   ]
  },
  {
   "cell_type": "code",
   "execution_count": 9,
   "id": "7f7184e8",
   "metadata": {},
   "outputs": [
    {
     "data": {
      "text/plain": [
       "RandomForestClassifier(n_jobs=-1, random_state=321)"
      ]
     },
     "execution_count": 9,
     "metadata": {},
     "output_type": "execute_result"
    }
   ],
   "source": [
    "### Life Ladder coupé en 2\n",
    "\n",
    "X_train_we_rf,X_test_we_rf,y_train_we_rf,y_test_we_rf=train_test_split(whr_NoNA_all_we_rf, life_ladder_cut_we_rf, test_size=0.2,random_state=123)\n",
    "\n",
    "clf_rf_we=RandomForestClassifier(n_jobs=-1,random_state=321)\n",
    "\n",
    "clf_rf_we.fit(X_train_we_rf,y_train_we_rf)\n",
    "\n",
    "### Life Ladder coupé en 10\n",
    "\n",
    "X_train_dix_we_rf,X_test_dix_we_rf,y_train_dix_we_rf,y_test_dix_we_rf=train_test_split(whr_NoNA_all_we_rf, life_ladder_cut_dix_we_rf, test_size=0.2,random_state=123)\n",
    "\n",
    "clf_rf_dix_we=RandomForestClassifier(n_jobs=-1,random_state=321)\n",
    "\n",
    "clf_rf_dix_we.fit(X_train_dix_we_rf,y_train_dix_we_rf)\n",
    "\n"
   ]
  },
  {
   "cell_type": "markdown",
   "id": "5e9f5a93",
   "metadata": {},
   "source": [
    "#### Classement des variables par ordre d'importance pour le modele"
   ]
  },
  {
   "cell_type": "code",
   "execution_count": 10,
   "id": "3285fdac",
   "metadata": {},
   "outputs": [
    {
     "data": {
      "text/html": [
       "<div>\n",
       "<style scoped>\n",
       "    .dataframe tbody tr th:only-of-type {\n",
       "        vertical-align: middle;\n",
       "    }\n",
       "\n",
       "    .dataframe tbody tr th {\n",
       "        vertical-align: top;\n",
       "    }\n",
       "\n",
       "    .dataframe thead th {\n",
       "        text-align: right;\n",
       "    }\n",
       "</style>\n",
       "<table border=\"1\" class=\"dataframe\">\n",
       "  <thead>\n",
       "    <tr style=\"text-align: right;\">\n",
       "      <th></th>\n",
       "      <th>Importance_we_rf</th>\n",
       "    </tr>\n",
       "  </thead>\n",
       "  <tbody>\n",
       "    <tr>\n",
       "      <th>LogGDP</th>\n",
       "      <td>0.174163</td>\n",
       "    </tr>\n",
       "    <tr>\n",
       "      <th>NegAffect</th>\n",
       "      <td>0.114823</td>\n",
       "    </tr>\n",
       "    <tr>\n",
       "      <th>Corrup</th>\n",
       "      <td>0.112317</td>\n",
       "    </tr>\n",
       "    <tr>\n",
       "      <th>Corruption</th>\n",
       "      <td>0.099763</td>\n",
       "    </tr>\n",
       "    <tr>\n",
       "      <th>Freedom</th>\n",
       "      <td>0.089278</td>\n",
       "    </tr>\n",
       "    <tr>\n",
       "      <th>Population</th>\n",
       "      <td>0.051261</td>\n",
       "    </tr>\n",
       "    <tr>\n",
       "      <th>GiniCoeff21</th>\n",
       "      <td>0.040183</td>\n",
       "    </tr>\n",
       "    <tr>\n",
       "      <th>PopAnnualGrowthRate</th>\n",
       "      <td>0.038686</td>\n",
       "    </tr>\n",
       "  </tbody>\n",
       "</table>\n",
       "</div>"
      ],
      "text/plain": [
       "                     Importance_we_rf\n",
       "LogGDP                       0.174163\n",
       "NegAffect                    0.114823\n",
       "Corrup                       0.112317\n",
       "Corruption                   0.099763\n",
       "Freedom                      0.089278\n",
       "Population                   0.051261\n",
       "GiniCoeff21                  0.040183\n",
       "PopAnnualGrowthRate          0.038686"
      ]
     },
     "execution_count": 10,
     "metadata": {},
     "output_type": "execute_result"
    }
   ],
   "source": [
    "### Life Ladder en 2\n",
    "\n",
    "feats_we_rf={}\n",
    "for i,j in zip(whr_NoNA_all_we_rf.columns,clf_rf_we.feature_importances_):\n",
    "    feats_we_rf[i]=j\n",
    "\n",
    "importance_we_rf=pd.DataFrame.from_dict(feats_we_rf,orient='index')\n",
    "importance_we_rf=importance_we_rf.rename(columns={0: 'Importance_we_rf'})\n",
    "\n",
    "importance_we_rf.sort_values(by='Importance_we_rf',ascending=False).head(8)\n",
    "\n"
   ]
  },
  {
   "cell_type": "code",
   "execution_count": 11,
   "id": "fba746ef",
   "metadata": {},
   "outputs": [
    {
     "data": {
      "text/html": [
       "<div>\n",
       "<style scoped>\n",
       "    .dataframe tbody tr th:only-of-type {\n",
       "        vertical-align: middle;\n",
       "    }\n",
       "\n",
       "    .dataframe tbody tr th {\n",
       "        vertical-align: top;\n",
       "    }\n",
       "\n",
       "    .dataframe thead th {\n",
       "        text-align: right;\n",
       "    }\n",
       "</style>\n",
       "<table border=\"1\" class=\"dataframe\">\n",
       "  <thead>\n",
       "    <tr style=\"text-align: right;\">\n",
       "      <th></th>\n",
       "      <th>Importance_dix_we_rf</th>\n",
       "    </tr>\n",
       "  </thead>\n",
       "  <tbody>\n",
       "    <tr>\n",
       "      <th>Corruption</th>\n",
       "      <td>0.118438</td>\n",
       "    </tr>\n",
       "    <tr>\n",
       "      <th>LogGDP</th>\n",
       "      <td>0.113186</td>\n",
       "    </tr>\n",
       "    <tr>\n",
       "      <th>Freedom</th>\n",
       "      <td>0.104612</td>\n",
       "    </tr>\n",
       "    <tr>\n",
       "      <th>Corrup</th>\n",
       "      <td>0.095152</td>\n",
       "    </tr>\n",
       "    <tr>\n",
       "      <th>SocialSupport</th>\n",
       "      <td>0.066562</td>\n",
       "    </tr>\n",
       "    <tr>\n",
       "      <th>NegAffect</th>\n",
       "      <td>0.060766</td>\n",
       "    </tr>\n",
       "    <tr>\n",
       "      <th>PopAnnualGrowthRate</th>\n",
       "      <td>0.054167</td>\n",
       "    </tr>\n",
       "    <tr>\n",
       "      <th>Population</th>\n",
       "      <td>0.045613</td>\n",
       "    </tr>\n",
       "  </tbody>\n",
       "</table>\n",
       "</div>"
      ],
      "text/plain": [
       "                     Importance_dix_we_rf\n",
       "Corruption                       0.118438\n",
       "LogGDP                           0.113186\n",
       "Freedom                          0.104612\n",
       "Corrup                           0.095152\n",
       "SocialSupport                    0.066562\n",
       "NegAffect                        0.060766\n",
       "PopAnnualGrowthRate              0.054167\n",
       "Population                       0.045613"
      ]
     },
     "execution_count": 11,
     "metadata": {},
     "output_type": "execute_result"
    }
   ],
   "source": [
    "### Life Ladder en 10\n",
    "\n",
    "feats_dix_we_rf={}\n",
    "for i,j in zip(whr_NoNA_all_we_rf.columns,clf_rf_dix_we.feature_importances_):\n",
    "    feats_dix_we_rf[i]=j\n",
    "\n",
    "importance_dix_we_rf=pd.DataFrame.from_dict(feats_dix_we_rf,orient='index')\n",
    "importance_dix_we_rf=importance_dix_we_rf.rename(columns={0: 'Importance_dix_we_rf'})\n",
    "\n",
    "importance_dix_we_rf.sort_values(by='Importance_dix_we_rf',ascending=False).head(8)"
   ]
  },
  {
   "cell_type": "markdown",
   "id": "cf577b19",
   "metadata": {},
   "source": [
    "On voit bien que lorsque l'on souhaite être précis la corruption à la plus grande influence. Les données sur la population ont également une influence non négligeable."
   ]
  },
  {
   "cell_type": "code",
   "execution_count": 12,
   "id": "86e3d4b8",
   "metadata": {},
   "outputs": [
    {
     "name": "stdout",
     "output_type": "stream",
     "text": [
      "le score du modele pour 2 classes sur jeu d'entrainement est de : 1.0\n",
      "le score du modele pour 2 classes sur jeu de test est de : 0.8571428571428571\n",
      "le score du modele pour les valeurs arrondies sur jeu d'entrainement est de : 1.0\n",
      "le score du modele pour les valeurs arrondies sur jeu de test est de : 0.7755102040816326\n"
     ]
    }
   ],
   "source": [
    "\n",
    "### coupé en 2\n",
    "print(\"le score du modele pour 2 classes sur jeu d'entrainement est de :\",clf_rf_we.score(X_train_we_rf, y_train_we_rf))\n",
    "print(\"le score du modele pour 2 classes sur jeu de test est de :\",clf_rf_we.score(X_test_we_rf, y_test_we_rf))\n",
    "\n",
    "\n",
    "### coupé en 10\n",
    "print(\"le score du modele pour les valeurs arrondies sur jeu d'entrainement est de :\",clf_rf_dix_we.score(X_train_dix_we_rf, y_train_dix_we_rf))\n",
    "print(\"le score du modele pour les valeurs arrondies sur jeu de test est de :\",clf_rf_dix_we.score(X_test_dix_we_rf, y_test_dix_we_rf))\n"
   ]
  },
  {
   "cell_type": "markdown",
   "id": "1f02df15",
   "metadata": {},
   "source": [
    "Ici aussi le modele apprend par coeur et n'est donc pas à utiliser pour une prediction"
   ]
  },
  {
   "cell_type": "markdown",
   "id": "6f7e6c9b",
   "metadata": {},
   "source": [
    "### Application du modele Lasso"
   ]
  },
  {
   "cell_type": "markdown",
   "id": "3f4c17cc",
   "metadata": {},
   "source": [
    "#### Prepartion des donnees pour le modele"
   ]
  },
  {
   "cell_type": "code",
   "execution_count": 13,
   "id": "96ad136f",
   "metadata": {},
   "outputs": [],
   "source": [
    "whr_NoNA_all_we_lasso=whr_NoNA_all_we.drop(['Year','Region'],axis=1)\n",
    "whr_NoNA_all_we_lasso=whr_NoNA_all_we_lasso.set_index('Country')\n",
    "\n",
    "life_ladder_we_lasso=whr_NoNA_all_we_lasso['Life Ladder']\n",
    "whr_NoNA_all_we_lasso=whr_NoNA_all_we_lasso.drop('Life Ladder',axis=1)\n"
   ]
  },
  {
   "cell_type": "markdown",
   "id": "908eb776",
   "metadata": {},
   "source": [
    "#### Definition et entrainement du modele"
   ]
  },
  {
   "cell_type": "code",
   "execution_count": 14,
   "id": "21b2dc9c",
   "metadata": {},
   "outputs": [
    {
     "data": {
      "text/plain": [
       "Lasso(alpha=0.01)"
      ]
     },
     "execution_count": 14,
     "metadata": {},
     "output_type": "execute_result"
    }
   ],
   "source": [
    "X_train_we_lasso,X_test_we_lasso,y_train_we_lasso,y_test_we_lasso=train_test_split(whr_NoNA_all_we_lasso, life_ladder_we_lasso, test_size=0.2,random_state=123)\n",
    "\n",
    "clf_lasso_we=Lasso(alpha=0.01)\n",
    "\n",
    "clf_lasso_we.fit(X_train_we_lasso,y_train_we_lasso)"
   ]
  },
  {
   "cell_type": "markdown",
   "id": "eed92c7f",
   "metadata": {},
   "source": [
    "#### Coefficients retenus pour chaque variables"
   ]
  },
  {
   "cell_type": "code",
   "execution_count": 15,
   "id": "24eb7694",
   "metadata": {},
   "outputs": [
    {
     "data": {
      "image/png": "[encoded data removed]",
      "text/plain": [
       "<Figure size 1080x1080 with 1 Axes>"
      ]
     },
     "metadata": {
      "needs_background": "light"
     },
     "output_type": "display_data"
    }
   ],
   "source": [
    "clf_lasso_we_coef = clf_lasso_we.coef_\n",
    "plt.figure(figsize=(15,15))\n",
    "plt.plot(range(len(whr_NoNA_all_we_lasso.columns)), clf_lasso_we_coef)\n",
    "plt.xticks(range(len(whr_NoNA_all_we_lasso.columns)), whr_NoNA_all_we_lasso.columns.values, rotation=70);"
   ]
  },
  {
   "cell_type": "markdown",
   "id": "f9a97b35",
   "metadata": {},
   "source": [
    "On observe que ce modele retient les variables sur la corruption, la population, le taux de croissance de population comme vu précédemment. Mais ce modèle rajoute les notions de regimes politiques.\n",
    "Toutes ces variables constituent les fractures entre le Nord de l'europe, notamment scandinave, et le Sud qui lui est latin"
   ]
  },
  {
   "cell_type": "markdown",
   "id": "d6be5ca5",
   "metadata": {},
   "source": [
    "#### Performance du modele"
   ]
  },
  {
   "cell_type": "code",
   "execution_count": 16,
   "id": "bb794568",
   "metadata": {},
   "outputs": [
    {
     "name": "stdout",
     "output_type": "stream",
     "text": [
      "le score du modele sur jeu d'entrainement est de : 0.8399584717325019\n",
      "le score du modele sur jeu de test est de : 0.7161866113483071\n"
     ]
    }
   ],
   "source": [
    "print(\"le score du modele sur jeu d'entrainement est de :\",clf_lasso_we.score(X_train_we_lasso, y_train_we_lasso))\n",
    "\n",
    "\n",
    "print(\"le score du modele sur jeu de test est de :\",clf_lasso_we.score(X_test_we_lasso, y_test_we_lasso))"
   ]
  },
  {
   "cell_type": "markdown",
   "id": "a2eae545",
   "metadata": {},
   "source": [
    "Le modèle de Lasso est le plus performant, comme sur le monde entier. Les arbres eux prennent une erreur de 0.5 maximum sur la valeur du Life Ladder, ce qui les rend moins performants que le Lasso.\n",
    "Les variables retenues par le modèle sont donc plus pertinentes et l'on voit bien que le PIB est ici surclassés."
   ]
  },
  {
   "cell_type": "markdown",
   "id": "cab4d1a8",
   "metadata": {},
   "source": [
    "---\n",
    "## Modelisation sur region Latin America and Caribbean\n",
    "---"
   ]
  },
  {
   "cell_type": "markdown",
   "id": "454a856f",
   "metadata": {},
   "source": [
    "### Preparation donnees pour la region"
   ]
  },
  {
   "cell_type": "code",
   "execution_count": 17,
   "id": "e4683eca",
   "metadata": {},
   "outputs": [],
   "source": [
    "whr_NoNA_all_la=whr_NoNA_all[whr_NoNA_all['Region']=='Latin America and Caribbean']"
   ]
  },
  {
   "cell_type": "markdown",
   "id": "02cfdf96",
   "metadata": {},
   "source": [
    "### Modele Random Forest"
   ]
  },
  {
   "cell_type": "markdown",
   "id": "ade3fe69",
   "metadata": {},
   "source": [
    "#### Donnees pour le modele"
   ]
  },
  {
   "cell_type": "code",
   "execution_count": 18,
   "id": "35c5c354",
   "metadata": {},
   "outputs": [],
   "source": [
    "whr_NoNA_all_la_rf=whr_NoNA_all_la.drop(['Year','Region'],axis=1)\n",
    "whr_NoNA_all_la_rf=whr_NoNA_all_la_rf.set_index('Country')\n",
    "life_ladder_la_rf=whr_NoNA_all_la_rf['Life Ladder']\n",
    "whr_NoNA_all_la_rf=whr_NoNA_all_la_rf.drop('Life Ladder',axis=1)\n",
    "\n",
    "\n",
    "\n",
    "### On fera la modelisation uniquement pour 10 classes : soit les valeurs arrondies de Life Ladder\n",
    "life_ladder_cut_dix_la_rf = pd.cut(life_ladder_la_rf, [0,0.5,1.5,2.5,3.5,4.5,5.5,6.5,7.5,8.5,9.5,10],\n",
    "                                   labels=[0,1,2,3,4,5,6,7,8,9,10])"
   ]
  },
  {
   "cell_type": "markdown",
   "id": "917f9c14",
   "metadata": {},
   "source": [
    "#### Definition et entrainement du modele"
   ]
  },
  {
   "cell_type": "code",
   "execution_count": 19,
   "id": "0ec51eb3",
   "metadata": {},
   "outputs": [
    {
     "data": {
      "text/plain": [
       "RandomForestClassifier(n_jobs=-1, random_state=321)"
      ]
     },
     "execution_count": 19,
     "metadata": {},
     "output_type": "execute_result"
    }
   ],
   "source": [
    "### Life Ladder coupé en 10\n",
    "\n",
    "X_train_dix_la_rf,X_test_dix_la_rf,y_train_dix_la_rf,y_test_dix_la_rf=train_test_split(whr_NoNA_all_la_rf,\n",
    "                                                                                       life_ladder_cut_dix_la_rf, \n",
    "                                                                                       test_size=0.2,random_state=123)\n",
    "\n",
    "clf_rf_dix_la=RandomForestClassifier(n_jobs=-1,random_state=321)\n",
    "\n",
    "clf_rf_dix_la.fit(X_train_dix_la_rf,y_train_dix_la_rf)"
   ]
  },
  {
   "cell_type": "markdown",
   "id": "9d30d828",
   "metadata": {},
   "source": [
    "#### Variables retenues par ordre d'importance"
   ]
  },
  {
   "cell_type": "code",
   "execution_count": 20,
   "id": "a7c34e3c",
   "metadata": {},
   "outputs": [
    {
     "data": {
      "text/html": [
       "<div>\n",
       "<style scoped>\n",
       "    .dataframe tbody tr th:only-of-type {\n",
       "        vertical-align: middle;\n",
       "    }\n",
       "\n",
       "    .dataframe tbody tr th {\n",
       "        vertical-align: top;\n",
       "    }\n",
       "\n",
       "    .dataframe thead th {\n",
       "        text-align: right;\n",
       "    }\n",
       "</style>\n",
       "<table border=\"1\" class=\"dataframe\">\n",
       "  <thead>\n",
       "    <tr style=\"text-align: right;\">\n",
       "      <th></th>\n",
       "      <th>Importance_dix_la_rf</th>\n",
       "    </tr>\n",
       "  </thead>\n",
       "  <tbody>\n",
       "    <tr>\n",
       "      <th>LogGDP</th>\n",
       "      <td>0.127206</td>\n",
       "    </tr>\n",
       "    <tr>\n",
       "      <th>PosAffect</th>\n",
       "      <td>0.073440</td>\n",
       "    </tr>\n",
       "    <tr>\n",
       "      <th>LifeExpectancy</th>\n",
       "      <td>0.068608</td>\n",
       "    </tr>\n",
       "    <tr>\n",
       "      <th>InfantMortalityRate</th>\n",
       "      <td>0.068409</td>\n",
       "    </tr>\n",
       "    <tr>\n",
       "      <th>PopDensity</th>\n",
       "      <td>0.066122</td>\n",
       "    </tr>\n",
       "    <tr>\n",
       "      <th>NegAffect</th>\n",
       "      <td>0.063645</td>\n",
       "    </tr>\n",
       "    <tr>\n",
       "      <th>Freedom</th>\n",
       "      <td>0.061530</td>\n",
       "    </tr>\n",
       "    <tr>\n",
       "      <th>Population</th>\n",
       "      <td>0.058890</td>\n",
       "    </tr>\n",
       "  </tbody>\n",
       "</table>\n",
       "</div>"
      ],
      "text/plain": [
       "                     Importance_dix_la_rf\n",
       "LogGDP                           0.127206\n",
       "PosAffect                        0.073440\n",
       "LifeExpectancy                   0.068608\n",
       "InfantMortalityRate              0.068409\n",
       "PopDensity                       0.066122\n",
       "NegAffect                        0.063645\n",
       "Freedom                          0.061530\n",
       "Population                       0.058890"
      ]
     },
     "execution_count": 20,
     "metadata": {},
     "output_type": "execute_result"
    }
   ],
   "source": [
    "### Life Ladder en 10\n",
    "\n",
    "feats_dix_la_rf={}\n",
    "for i,j in zip(whr_NoNA_all_la_rf.columns,clf_rf_dix_la.feature_importances_):\n",
    "    feats_dix_la_rf[i]=j\n",
    "\n",
    "importance_dix_la_rf=pd.DataFrame.from_dict(feats_dix_la_rf,orient='index')\n",
    "importance_dix_la_rf=importance_dix_la_rf.rename(columns={0: 'Importance_dix_la_rf'})\n",
    "\n",
    "importance_dix_la_rf.sort_values(by='Importance_dix_la_rf',ascending=False).head(8)"
   ]
  },
  {
   "cell_type": "markdown",
   "id": "bb4ee80b",
   "metadata": {},
   "source": [
    "Cette region suit la tendance du monde entier\n",
    "A part seulement le taux de mortalité infantile qui a une influence non négligeable\n",
    "Pour Western Europe on avait d'autres variables en top. Ce qui met bien en évidence une différence entre régions."
   ]
  },
  {
   "cell_type": "markdown",
   "id": "19917081",
   "metadata": {},
   "source": [
    "#### Performance du modele"
   ]
  },
  {
   "cell_type": "code",
   "execution_count": 21,
   "id": "df35d8d6",
   "metadata": {},
   "outputs": [
    {
     "name": "stdout",
     "output_type": "stream",
     "text": [
      "le score du modele sur jeu d'entrainement est de : 1.0\n",
      "le score du modele sur jeu de test est de : 0.8181818181818182\n"
     ]
    }
   ],
   "source": [
    "### coupé en 10\n",
    "print(\"le score du modele sur jeu d'entrainement est de :\",clf_rf_dix_la.score(X_train_dix_la_rf, y_train_dix_la_rf))\n",
    "print(\"le score du modele sur jeu de test est de :\",clf_rf_dix_la.score(X_test_dix_la_rf, y_test_dix_la_rf))"
   ]
  },
  {
   "cell_type": "markdown",
   "id": "b8cc40e5",
   "metadata": {},
   "source": [
    "### Modele de Lasso"
   ]
  },
  {
   "cell_type": "markdown",
   "id": "a02abc2c",
   "metadata": {},
   "source": [
    "#### Donnees pour le modele"
   ]
  },
  {
   "cell_type": "code",
   "execution_count": 22,
   "id": "c59da1d3",
   "metadata": {},
   "outputs": [],
   "source": [
    "whr_NoNA_all_la_lasso=whr_NoNA_all_la.drop(['Year','Region'],axis=1)\n",
    "whr_NoNA_all_la_lasso=whr_NoNA_all_la_lasso.set_index('Country')\n",
    "\n",
    "life_ladder_la_lasso=whr_NoNA_all_la_lasso['Life Ladder']\n",
    "whr_NoNA_all_la_lasso=whr_NoNA_all_la_lasso.drop('Life Ladder',axis=1)\n"
   ]
  },
  {
   "cell_type": "markdown",
   "id": "9f5ec221",
   "metadata": {},
   "source": [
    "#### Definition et entrainement du modele"
   ]
  },
  {
   "cell_type": "code",
   "execution_count": 24,
   "id": "a4c25f15",
   "metadata": {},
   "outputs": [
    {
     "data": {
      "text/plain": [
       "Lasso(alpha=0.001)"
      ]
     },
     "execution_count": 24,
     "metadata": {},
     "output_type": "execute_result"
    }
   ],
   "source": [
    "X_train_la_lasso,X_test_la_lasso,y_train_la_lasso,y_test_la_lasso=train_test_split(whr_NoNA_all_la_lasso,\n",
    "                                                                                   life_ladder_la_lasso, \n",
    "                                                                                   test_size=0.2,random_state=123)\n",
    "\n",
    "clf_lasso_la=Lasso(alpha=0.001)\n",
    "\n",
    "clf_lasso_la.fit(X_train_la_lasso,y_train_la_lasso)"
   ]
  },
  {
   "cell_type": "markdown",
   "id": "e1e99714",
   "metadata": {},
   "source": [
    "#### Coefficients retenus pour chaque variables"
   ]
  },
  {
   "cell_type": "code",
   "execution_count": 26,
   "id": "eab0b35c",
   "metadata": {},
   "outputs": [
    {
     "data": {
      "image/png": "[encoded data removed]",
      "text/plain": [
       "<Figure size 1080x1080 with 1 Axes>"
      ]
     },
     "metadata": {
      "needs_background": "light"
     },
     "output_type": "display_data"
    }
   ],
   "source": [
    "clf_lasso_la_coef = clf_lasso_la.coef_\n",
    "plt.figure(figsize=(15,15))\n",
    "plt.plot(range(len(whr_NoNA_all_la_lasso.columns)), clf_lasso_la_coef)\n",
    "plt.xticks(range(len(whr_NoNA_all_la_lasso.columns)), whr_NoNA_all_la_lasso.columns.values, rotation=70);"
   ]
  },
  {
   "cell_type": "markdown",
   "id": "a8327f82",
   "metadata": {},
   "source": [
    "Cela confirme le suivi de la tendance niveau mondial, avec cette fois-ci l'influence du regime politique en plus des demographiques"
   ]
  },
  {
   "cell_type": "markdown",
   "id": "ae43c00d",
   "metadata": {},
   "source": [
    "#### Performance du modele"
   ]
  },
  {
   "cell_type": "code",
   "execution_count": 27,
   "id": "dcf00180",
   "metadata": {},
   "outputs": [
    {
     "name": "stdout",
     "output_type": "stream",
     "text": [
      "le score du modele sur jeu d'entrainement est de : 0.7181088070838371\n",
      "le score du modele sur jeu de test est de : 0.7154382427053543\n"
     ]
    }
   ],
   "source": [
    "print(\"le score du modele sur jeu d'entrainement est de :\",clf_lasso_la.score(X_train_la_lasso, y_train_la_lasso))\n",
    "\n",
    "\n",
    "print(\"le score du modele sur jeu de test est de :\",clf_lasso_la.score(X_test_la_lasso, y_test_la_lasso))"
   ]
  },
  {
   "cell_type": "markdown",
   "id": "c011283c",
   "metadata": {},
   "source": [
    "On confirme la tres bonne performance du modele et donc son utilisation pour la suite de l'étude"
   ]
  }
 ],
 "metadata": {
  "kernelspec": {
   "display_name": "Python 3",
   "language": "python",
   "name": "python3"
  },
  "language_info": {
   "codemirror_mode": {
    "name": "ipython",
    "version": 3
   },
   "file_extension": ".py",
   "mimetype": "text/x-python",
   "name": "python",
   "nbconvert_exporter": "python",
   "pygments_lexer": "ipython3",
   "version": "3.8.8"
  }
 },
 "nbformat": 4,
 "nbformat_minor": 5
}
